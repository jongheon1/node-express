{
  "cells": [
    {
      "cell_type": "markdown",
      "metadata": {
        "id": "view-in-github",
        "colab_type": "text"
      },
      "source": [
        "<a href=\"https://colab.research.google.com/github/jongheon1/node-express/blob/main/ML_final_project.ipynb\" target=\"_parent\"><img src=\"https://colab.research.google.com/assets/colab-badge.svg\" alt=\"Open In Colab\"/></a>"
      ]
    },
    {
      "cell_type": "markdown",
      "id": "602993e4-aeef-4d0f-8d9f-f5973c8e44e2",
      "metadata": {
        "id": "602993e4-aeef-4d0f-8d9f-f5973c8e44e2"
      },
      "source": [
        "cifar-10 데이터셋을 학습시켜 새와 비행기를 구분하도록 하겠습니다."
      ]
    },
    {
      "cell_type": "code",
      "source": [
        "import torch\n",
        "device = torch.device( \"cuda\" if torch.cuda.is_available() else \"cpu\" )\n",
        "print(f\"Using {device} device\")"
      ],
      "metadata": {
        "colab": {
          "base_uri": "https://localhost:8080/"
        },
        "id": "zQEIk3Z0j7Qd",
        "outputId": "5fbfc52a-a044-49fb-f3da-bc4e557f3e2f"
      },
      "id": "zQEIk3Z0j7Qd",
      "execution_count": null,
      "outputs": [
        {
          "output_type": "stream",
          "name": "stdout",
          "text": [
            "Using cuda device\n"
          ]
        }
      ]
    },
    {
      "cell_type": "markdown",
      "source": [
        "gpu에서 돌아가도록 해 줍니다."
      ],
      "metadata": {
        "id": "5qgSn-qToyhY"
      },
      "id": "5qgSn-qToyhY"
    },
    {
      "cell_type": "code",
      "execution_count": null,
      "id": "7fc61525-5c11-48e0-aeee-df1f461df3eb",
      "metadata": {
        "colab": {
          "base_uri": "https://localhost:8080/"
        },
        "id": "7fc61525-5c11-48e0-aeee-df1f461df3eb",
        "outputId": "9055a0f5-e6a8-4117-c1d1-8393dc764183"
      },
      "outputs": [
        {
          "output_type": "stream",
          "name": "stdout",
          "text": [
            "Files already downloaded and verified\n",
            "Files already downloaded and verified\n"
          ]
        }
      ],
      "source": [
        "from torchvision import datasets, transforms\n",
        "import torch; torch.manual_seed(0)\n",
        "from torch import optim\n",
        "import torch.nn as nn\n",
        "from torchvision.transforms import ToTensor\n",
        "import matplotlib.pyplot as plt\n",
        "\n",
        "\n",
        "\n",
        "data_path = '../data'\n",
        "cifar10 = datasets.CIFAR10(\n",
        "    data_path, train=True, download=True,\n",
        "    transform=ToTensor()\n",
        ")\n",
        "cifar10_val = datasets.CIFAR10(\n",
        "    data_path, train=False, download=True,\n",
        "    transform=ToTensor()\n",
        ")"
      ]
    },
    {
      "cell_type": "markdown",
      "id": "17a37304-0c64-44bd-ab72-35852b3b249c",
      "metadata": {
        "id": "17a37304-0c64-44bd-ab72-35852b3b249c"
      },
      "source": [
        "cifar-10 데이터를 다운 받습니다. 훈련셋과 검증셋을 구분해서 다운받았습니다.\n",
        "\n",
        "\n",
        "cifar10은 자동으로 torch.utils.data.Dataset의 서브 클래스로 반환되기 때문에 따로 클래스를 만들어서 지정해 주지 않아도 됩니다. \n",
        "\n",
        "하지만 굳이 torch.utils.data.Dataset의 서브 클래스일 필요도 없습니다. 왜냐면 데이터셋은 작고, 인덱싱과 len만 있으면 되기 때문입니다."
      ]
    },
    {
      "cell_type": "code",
      "execution_count": null,
      "id": "678010c6-86e6-4855-9862-9dcec5e9359d",
      "metadata": {
        "id": "678010c6-86e6-4855-9862-9dcec5e9359d"
      },
      "outputs": [],
      "source": [
        "label_map={0:0,2:1} #비행기는 cifar에서 0, 새는 cifar에서 2인데 이것을 각각 0 그리고 1로 바꾸어 줍니다.\n",
        "class_names = ['airplane', 'bird']\n",
        "cifar = [(img, label_map[label]) for img, label in cifar10 if label in [0,2]]\n",
        "cifar_val = [(img, label_map[label]) for img, label in cifar10_val if label in [0,2]]"
      ]
    },
    {
      "cell_type": "markdown",
      "id": "4168ac79-bef4-48ed-b73c-a1dad7ad5e85",
      "metadata": {
        "id": "4168ac79-bef4-48ed-b73c-a1dad7ad5e85"
      },
      "source": [
        "cifar10에 있는 데이터를 새와 비행기의 사진만 필터링하고 다시 매핑해서 새로운 데이터셋을 만들었습니다.\n",
        "\n",
        "이제 데이터를 넣을 모델이 필요합니다. 몇가지 모델을 이용해 학습시키고 성공률을 비교해보겠습니다."
      ]
    },
    {
      "cell_type": "code",
      "execution_count": null,
      "id": "1c572379-2a4d-4a3e-859d-0b7801de1bc1",
      "metadata": {
        "id": "1c572379-2a4d-4a3e-859d-0b7801de1bc1"
      },
      "outputs": [],
      "source": [
        "n_out = 2\n",
        "model = nn.Sequential(\n",
        "    nn.Linear(\n",
        "        3072, #입력 피처, 이미지가 32*32*3인데 이를 1차원 벡터로 늘어뜨렸기 때문에 3072개의 입력 피처를 만들었습니다.\n",
        "        512, #임의로 512개의 은닉된 피처를 골랐습니다.\n",
        "    ),\n",
        "    nn.Tanh(),\n",
        "    nn.Linear(\n",
        "        512,\n",
        "        n_out,\n",
        "    ),\n",
        "    nn.Softmax(dim=1) #softmax = torch.exp(x)/torch.exp(x).sum()\n",
        ")"
      ]
    },
    {
      "cell_type": "markdown",
      "id": "aa32a42d-4bad-49f3-a576-0a8d8893be71",
      "metadata": {
        "id": "aa32a42d-4bad-49f3-a576-0a8d8893be71"
      },
      "source": [
        "훈련 시키기 전 가장 기본적인 모델을 만들어보았습니다. softmax를 통해 수를 0과 1 사이로 바꾸어주었습니다.\n",
        "\n",
        "여기서 출력값은 카테고리입니다. 이상적인 경우 신경망은 비행기에 대해 torch.tensor([1.0,0.0])을 출력하고 새에 대해선 반대로 출력해야합니다."
      ]
    },
    {
      "cell_type": "code",
      "source": [
        "img,_ = cifar[0]\n",
        "img_batch = img.view(-1).unsqueeze(0)\n",
        "print(model(img_batch))\n",
        "plt.imshow(img.permute(1,2,0))\n",
        "plt.show()"
      ],
      "metadata": {
        "colab": {
          "base_uri": "https://localhost:8080/",
          "height": 283
        },
        "id": "atVwNnA6qbUI",
        "outputId": "7fa4e421-70dd-49fd-853e-0a286e6bf879"
      },
      "id": "atVwNnA6qbUI",
      "execution_count": null,
      "outputs": [
        {
          "output_type": "stream",
          "name": "stdout",
          "text": [
            "tensor([[0.4933, 0.5067]], grad_fn=<SoftmaxBackward0>)\n"
          ]
        },
        {
          "output_type": "display_data",
          "data": {
            "text/plain": [
              "<Figure size 432x288 with 1 Axes>"
            ],
            "image/png": "[encoded data removed]"
          },
          "metadata": {
            "needs_background": "light"
          }
        }
      ]
    },
    {
      "cell_type": "markdown",
      "source": [
        "훈련 시키기 전 이미지입니다. \n",
        "\n",
        "출력이 확률의 형태로 나왔고 우연히 새를 의미하는 것이 나오긴 했지만 \n",
        "\n",
        "무작위로 초기화한 값이기 때문에 현재로선 아무런 의미가 없습니다."
      ],
      "metadata": {
        "id": "iZJu7pm8rkgP"
      },
      "id": "iZJu7pm8rkgP"
    },
    {
      "cell_type": "markdown",
      "id": "cd16fcff-38ce-42ea-ad05-f46bf316f49b",
      "metadata": {
        "id": "cd16fcff-38ce-42ea-ad05-f46bf316f49b"
      },
      "source": [
        "이제 모델에 이미지를 넣고 돌려서 훈련을 시킬 것입니다.\n",
        "\n",
        "먼저 NLL함수를 이용한 것입니다.\n",
        "\n",
        "learning rate는 1e-2이고\n",
        "\n",
        "optimizer는 SGD이고\n",
        "\n",
        "loss function은 NLLloss를 이용했습니다."
      ]
    },
    {
      "cell_type": "code",
      "execution_count": null,
      "id": "b34a630f-bdf3-41b8-9321-b0b98846b297",
      "metadata": {
        "colab": {
          "base_uri": "https://localhost:8080/"
        },
        "id": "b34a630f-bdf3-41b8-9321-b0b98846b297",
        "outputId": "31df59ea-96d8-4d00-fc08-1c02a7c82eec"
      },
      "outputs": [
        {
          "output_type": "stream",
          "name": "stdout",
          "text": [
            "Epoch: 0, Loss: 0.674485\n",
            "Epoch: 1, Loss: 0.617265\n",
            "Epoch: 2, Loss: 0.780723\n",
            "Epoch: 3, Loss: 0.559616\n",
            "Epoch: 4, Loss: 0.420487\n",
            "Epoch: 5, Loss: 0.587275\n",
            "Epoch: 6, Loss: 0.233775\n",
            "Epoch: 7, Loss: 0.375139\n",
            "Epoch: 8, Loss: 0.313992\n",
            "Epoch: 9, Loss: 0.592614\n",
            "Epoch: 10, Loss: 0.347440\n",
            "Epoch: 11, Loss: 0.418935\n",
            "Epoch: 12, Loss: 0.378459\n",
            "Epoch: 13, Loss: 0.474048\n",
            "Epoch: 14, Loss: 0.397035\n",
            "Epoch: 15, Loss: 0.293082\n",
            "Epoch: 16, Loss: 0.380939\n",
            "Epoch: 17, Loss: 0.409839\n",
            "Epoch: 18, Loss: 0.221208\n",
            "Epoch: 19, Loss: 0.836794\n"
          ]
        }
      ],
      "source": [
        "train_loader = torch.utils.data.DataLoader(cifar, batch_size=64,\n",
        "                                           shuffle=True)\n",
        "model = nn.Sequential(\n",
        "            nn.Linear(3072, 128),\n",
        "            nn.Tanh(),\n",
        "            nn.Linear(128, 2),\n",
        "            nn.LogSoftmax(dim=1))\n",
        "\n",
        "learning_rate = 1e-2\n",
        "optimizer = optim.SGD(model.parameters(), lr=learning_rate)\n",
        "loss_fn = nn.NLLLoss()\n",
        "n_epochs = 20\n",
        "\n",
        "for epoch in range(n_epochs):\n",
        "    for imgs, labels in train_loader:\n",
        "        outputs = model(imgs.view(imgs.shape[0], -1))\n",
        "        loss = loss_fn(outputs, labels)\n",
        "        optimizer.zero_grad()\n",
        "        loss.backward()\n",
        "        optimizer.step()\n",
        "    print(\"Epoch: %d, Loss: %f\" % (epoch, float(loss)))"
      ]
    },
    {
      "cell_type": "code",
      "execution_count": null,
      "id": "213af4dc-6901-4a5b-93d2-2340840c8f7f",
      "metadata": {
        "colab": {
          "base_uri": "https://localhost:8080/"
        },
        "id": "213af4dc-6901-4a5b-93d2-2340840c8f7f",
        "outputId": "ac44455d-e892-4c6c-ac13-daa031dcae29"
      },
      "outputs": [
        {
          "output_type": "stream",
          "name": "stdout",
          "text": [
            "Accuracy: 0.755100\n"
          ]
        }
      ],
      "source": [
        "train_loader = torch.utils.data.DataLoader(cifar, batch_size=64,\n",
        "                                           shuffle=False)\n",
        "\n",
        "correct = 0\n",
        "total = 0\n",
        "\n",
        "with torch.no_grad():\n",
        "    for imgs, labels in train_loader:\n",
        "        outputs = model(imgs.view(imgs.shape[0], -1))\n",
        "        _, predicted = torch.max(outputs, dim=1)\n",
        "        total += labels.shape[0]\n",
        "        correct += int((predicted == labels).sum())\n",
        "        \n",
        "print(\"Accuracy: %f\" % (correct / total))\n"
      ]
    },
    {
      "cell_type": "markdown",
      "source": [
        "다음으론 다른건 위와 같이만 모델에 계층을 더 추가하였습니다"
      ],
      "metadata": {
        "id": "llL_JmwLshhR"
      },
      "id": "llL_JmwLshhR"
    },
    {
      "cell_type": "code",
      "execution_count": null,
      "id": "9d3f5879-e4b1-446c-8956-ec689444fa78",
      "metadata": {
        "colab": {
          "base_uri": "https://localhost:8080/"
        },
        "id": "9d3f5879-e4b1-446c-8956-ec689444fa78",
        "outputId": "d927d7ef-7614-41cd-f0be-60218037427a"
      },
      "outputs": [
        {
          "output_type": "stream",
          "name": "stdout",
          "text": [
            "Epoch: 0, Loss: 0.596481\n",
            "Epoch: 1, Loss: 0.397408\n",
            "Epoch: 2, Loss: 0.374668\n",
            "Epoch: 3, Loss: 0.506387\n",
            "Epoch: 4, Loss: 0.339134\n",
            "Epoch: 5, Loss: 0.270393\n",
            "Epoch: 6, Loss: 0.468351\n",
            "Epoch: 7, Loss: 0.519288\n",
            "Epoch: 8, Loss: 0.486565\n",
            "Epoch: 9, Loss: 0.724310\n",
            "Epoch: 10, Loss: 0.463287\n",
            "Epoch: 11, Loss: 0.443597\n",
            "Epoch: 12, Loss: 0.685252\n",
            "Epoch: 13, Loss: 0.316082\n",
            "Epoch: 14, Loss: 0.483777\n",
            "Epoch: 15, Loss: 0.421172\n",
            "Epoch: 16, Loss: 0.540434\n",
            "Epoch: 17, Loss: 0.458017\n",
            "Epoch: 18, Loss: 0.497861\n",
            "Epoch: 19, Loss: 0.520904\n"
          ]
        }
      ],
      "source": [
        "train_loader = torch.utils.data.DataLoader(cifar, batch_size=64,\n",
        "                                           shuffle=True)\n",
        "model = nn.Sequential(\n",
        "            nn.Linear(3072, 1024),\n",
        "            nn.Tanh(),\n",
        "            nn.Linear(1024, 512),\n",
        "            nn.Tanh(),\n",
        "            nn.Linear(512, 128),\n",
        "            nn.Tanh(),\n",
        "            nn.Linear(128, 2),\n",
        "            nn.LogSoftmax(dim=1))\n",
        "\n",
        "learning_rate = 1e-2\n",
        "optimizer = optim.SGD(model.parameters(), lr=learning_rate)\n",
        "loss_fn = nn.NLLLoss()\n",
        "n_epochs = 20\n",
        "\n",
        "for epoch in range(n_epochs):\n",
        "    for imgs, labels in train_loader:\n",
        "        outputs = model(imgs.view(imgs.shape[0], -1))\n",
        "        loss = loss_fn(outputs, labels)\n",
        "        optimizer.zero_grad()\n",
        "        loss.backward()\n",
        "        optimizer.step()\n",
        "    print(\"Epoch: %d, Loss: %f\" % (epoch, float(loss)))"
      ]
    },
    {
      "cell_type": "code",
      "source": [
        "train_loader = torch.utils.data.DataLoader(cifar, batch_size=64,\n",
        "                                           shuffle=False)\n",
        "\n",
        "correct = 0\n",
        "total = 0\n",
        "\n",
        "with torch.no_grad():\n",
        "    for imgs, labels in train_loader:\n",
        "        outputs = model(imgs.view(imgs.shape[0], -1))\n",
        "        _, predicted = torch.max(outputs, dim=1)\n",
        "        total += labels.shape[0]\n",
        "        correct += int((predicted == labels).sum())\n",
        "        \n",
        "print(\"Accuracy: %f\" % (correct / total))\n"
      ],
      "metadata": {
        "colab": {
          "base_uri": "https://localhost:8080/"
        },
        "id": "Fx6gD6mnnY7x",
        "outputId": "56660c03-8b33-4d49-dcbe-bc1985437b14"
      },
      "id": "Fx6gD6mnnY7x",
      "execution_count": null,
      "outputs": [
        {
          "output_type": "stream",
          "name": "stdout",
          "text": [
            "Accuracy: 0.702900\n"
          ]
        }
      ]
    },
    {
      "cell_type": "markdown",
      "source": [
        "마지막으로 loss function 으로 cross entropy loss 를 사용한 것입니다."
      ],
      "metadata": {
        "id": "BgzgagSbsr0v"
      },
      "id": "BgzgagSbsr0v"
    },
    {
      "cell_type": "code",
      "source": [
        "train_loader = torch.utils.data.DataLoader(cifar, batch_size=64,\n",
        "                                           shuffle=True)\n",
        "\n",
        "model = nn.Sequential(\n",
        "            nn.Linear(3072, 1024),\n",
        "            nn.Tanh(),\n",
        "            nn.Linear(1024, 512),\n",
        "            nn.Tanh(),\n",
        "            nn.Linear(512, 128),\n",
        "            nn.Tanh(),\n",
        "            nn.Linear(128, 2))\n",
        "\n",
        "learning_rate = 1e-2\n",
        "\n",
        "optimizer = optim.SGD(model.parameters(), lr=learning_rate)\n",
        "\n",
        "loss_fn = nn.CrossEntropyLoss()\n",
        "\n",
        "n_epochs = 20\n",
        "\n",
        "for epoch in range(n_epochs):\n",
        "    for imgs, labels in train_loader:\n",
        "        outputs = model(imgs.view(imgs.shape[0], -1))\n",
        "        loss = loss_fn(outputs, labels)\n",
        "\n",
        "        optimizer.zero_grad()\n",
        "        loss.backward()\n",
        "        optimizer.step()\n",
        "\n",
        "    print(\"Epoch: %d, Loss: %f\" % (epoch, float(loss)))"
      ],
      "metadata": {
        "colab": {
          "base_uri": "https://localhost:8080/"
        },
        "id": "nuhoTw8TnZJa",
        "outputId": "1a3f74c0-4473-4b6d-ed82-ce5aa4f7cc6b"
      },
      "id": "nuhoTw8TnZJa",
      "execution_count": null,
      "outputs": [
        {
          "output_type": "stream",
          "name": "stdout",
          "text": [
            "Epoch: 0, Loss: 0.554711\n",
            "Epoch: 1, Loss: 0.530514\n",
            "Epoch: 2, Loss: 0.332666\n",
            "Epoch: 3, Loss: 0.442523\n",
            "Epoch: 4, Loss: 0.653080\n",
            "Epoch: 5, Loss: 0.332337\n",
            "Epoch: 6, Loss: 0.435411\n",
            "Epoch: 7, Loss: 0.496748\n",
            "Epoch: 8, Loss: 0.297147\n",
            "Epoch: 9, Loss: 0.427052\n",
            "Epoch: 10, Loss: 0.856349\n",
            "Epoch: 11, Loss: 0.430014\n",
            "Epoch: 12, Loss: 0.495227\n",
            "Epoch: 13, Loss: 0.672488\n",
            "Epoch: 14, Loss: 0.575489\n",
            "Epoch: 15, Loss: 0.432062\n",
            "Epoch: 16, Loss: 0.416063\n",
            "Epoch: 17, Loss: 0.406488\n",
            "Epoch: 18, Loss: 0.448870\n",
            "Epoch: 19, Loss: 0.530214\n"
          ]
        }
      ]
    },
    {
      "cell_type": "code",
      "source": [
        "train_loader = torch.utils.data.DataLoader(cifar, batch_size=64,\n",
        "                                           shuffle=False)\n",
        "\n",
        "correct = 0\n",
        "total = 0\n",
        "\n",
        "with torch.no_grad():\n",
        "    for imgs, labels in train_loader:\n",
        "        outputs = model(imgs.view(imgs.shape[0], -1))\n",
        "        _, predicted = torch.max(outputs, dim=1)\n",
        "        total += labels.shape[0]\n",
        "        correct += int((predicted == labels).sum())\n",
        "        \n",
        "print(\"Accuracy: %f\" % (correct / total))"
      ],
      "metadata": {
        "colab": {
          "base_uri": "https://localhost:8080/"
        },
        "id": "Dgi-QXwGnc9T",
        "outputId": "1b3cf276-98a7-4f29-8d98-2c1ab51879c9"
      },
      "id": "Dgi-QXwGnc9T",
      "execution_count": null,
      "outputs": [
        {
          "output_type": "stream",
          "name": "stdout",
          "text": [
            "Accuracy: 0.680000\n"
          ]
        }
      ]
    },
    {
      "cell_type": "markdown",
      "source": [
        "비교 결과 가장 처음 NLL을 이용한 것이 정확도가 가장 높게 나왔습니다."
      ],
      "metadata": {
        "id": "JRJcwVNktGq_"
      },
      "id": "JRJcwVNktGq_"
    },
    {
      "cell_type": "code",
      "source": [
        "sum([p.numel() for p in model.parameters()])\n"
      ],
      "metadata": {
        "colab": {
          "base_uri": "https://localhost:8080/"
        },
        "id": "oMbVIlsxtMFQ",
        "outputId": "29cd2e39-b751-46a8-b28e-a985ca7d9522"
      },
      "id": "oMbVIlsxtMFQ",
      "execution_count": null,
      "outputs": [
        {
          "output_type": "execute_result",
          "data": {
            "text/plain": [
              "3737474"
            ]
          },
          "metadata": {},
          "execution_count": 39
        }
      ]
    },
    {
      "cell_type": "markdown",
      "source": [
        "모델의 파라미터 개수가 무려 370만개가 넘습니다.\n",
        "\n",
        " 이는 예측 가능한 것인데 먼저 x의 길이가 3072였고 1024개의 출력 피쳐를 만들었기 때문입니다.\n",
        "\n",
        "선형 계층이 y= weight*x+bias라면 3072*1024만 해도 300만이 넘습니다.\n",
        "\n",
        "---\n",
        "\n"
      ],
      "metadata": {
        "id": "qTOuEYXetarQ"
      },
      "id": "qTOuEYXetarQ"
    },
    {
      "cell_type": "code",
      "source": [],
      "metadata": {
        "id": "VCYrsJzJuc04"
      },
      "id": "VCYrsJzJuc04",
      "execution_count": null,
      "outputs": []
    },
    {
      "cell_type": "code",
      "source": [],
      "metadata": {
        "id": "nbq3WvSNuc5X"
      },
      "id": "nbq3WvSNuc5X",
      "execution_count": null,
      "outputs": []
    }
  ],
  "metadata": {
    "kernelspec": {
      "display_name": "Python 3 (ipykernel)",
      "language": "python",
      "name": "python3"
    },
    "language_info": {
      "codemirror_mode": {
        "name": "ipython",
        "version": 3
      },
      "file_extension": ".py",
      "mimetype": "text/x-python",
      "name": "python",
      "nbconvert_exporter": "python",
      "pygments_lexer": "ipython3",
      "version": "3.8.8"
    },
    "colab": {
      "provenance": [],
      "include_colab_link": true
    },
    "accelerator": "GPU",
    "gpuClass": "standard"
  },
  "nbformat": 4,
  "nbformat_minor": 5
}